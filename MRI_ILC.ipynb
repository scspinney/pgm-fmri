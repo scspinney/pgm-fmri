{
 "cells": [
  {
   "cell_type": "code",
   "execution_count": 1,
   "metadata": {
    "id": "gPMFOssoxgRp"
   },
   "outputs": [],
   "source": [
    "%matplotlib inline"
   ]
  },
  {
   "cell_type": "code",
   "execution_count": 3,
   "metadata": {
    "colab": {
     "base_uri": "https://localhost:8080/"
    },
    "id": "ldl9318bxlDU",
    "outputId": "9805f429-21d6-446e-a054-a41b3c7be0de"
   },
   "outputs": [
    {
     "name": "stdout",
     "output_type": "stream",
     "text": [
      "Collecting nilearn\n",
      "\u001b[?25l  Downloading https://files.pythonhosted.org/packages/e8/e7/59fcd3501f47b7a661a69e15ef417463fbc88dd334d9af2d9d6685710038/nilearn-0.7.0-py3-none-any.whl (3.0MB)\n",
      "\u001b[K     |████████████████████████████████| 3.0MB 8.1MB/s \n",
      "\u001b[?25hRequirement already satisfied: requests>=2 in /usr/local/lib/python3.6/dist-packages (from nilearn) (2.23.0)\n",
      "Requirement already satisfied: pandas>=0.18.0 in /usr/local/lib/python3.6/dist-packages (from nilearn) (1.1.5)\n",
      "Requirement already satisfied: numpy>=1.11 in /usr/local/lib/python3.6/dist-packages (from nilearn) (1.19.4)\n",
      "Requirement already satisfied: joblib>=0.12 in /usr/local/lib/python3.6/dist-packages (from nilearn) (1.0.0)\n",
      "Requirement already satisfied: scipy>=0.19 in /usr/local/lib/python3.6/dist-packages (from nilearn) (1.4.1)\n",
      "Requirement already satisfied: nibabel>=2.0.2 in /usr/local/lib/python3.6/dist-packages (from nilearn) (3.0.2)\n",
      "Requirement already satisfied: scikit-learn>=0.19 in /usr/local/lib/python3.6/dist-packages (from nilearn) (0.22.2.post1)\n",
      "Requirement already satisfied: idna<3,>=2.5 in /usr/local/lib/python3.6/dist-packages (from requests>=2->nilearn) (2.10)\n",
      "Requirement already satisfied: certifi>=2017.4.17 in /usr/local/lib/python3.6/dist-packages (from requests>=2->nilearn) (2020.12.5)\n",
      "Requirement already satisfied: chardet<4,>=3.0.2 in /usr/local/lib/python3.6/dist-packages (from requests>=2->nilearn) (3.0.4)\n",
      "Requirement already satisfied: urllib3!=1.25.0,!=1.25.1,<1.26,>=1.21.1 in /usr/local/lib/python3.6/dist-packages (from requests>=2->nilearn) (1.24.3)\n",
      "Requirement already satisfied: python-dateutil>=2.7.3 in /usr/local/lib/python3.6/dist-packages (from pandas>=0.18.0->nilearn) (2.8.1)\n",
      "Requirement already satisfied: pytz>=2017.2 in /usr/local/lib/python3.6/dist-packages (from pandas>=0.18.0->nilearn) (2018.9)\n",
      "Requirement already satisfied: six>=1.5 in /usr/local/lib/python3.6/dist-packages (from python-dateutil>=2.7.3->pandas>=0.18.0->nilearn) (1.15.0)\n",
      "Installing collected packages: nilearn\n",
      "Successfully installed nilearn-0.7.0\n"
     ]
    }
   ],
   "source": [
    "!pip install nilearn"
   ]
  },
  {
   "cell_type": "code",
   "execution_count": 130,
   "metadata": {
    "id": "UU6iIYhLxgR-"
   },
   "outputs": [],
   "source": [
    "# Authors: Elvis Dhomatob, <elvis.dohmatob@inria.fr>, Apr. 2014\n",
    "#          Virgile Fritsch, <virgile.fritsch@inria.fr>, Apr 2014\n",
    "#          Gael Varoquaux, Apr 2014\n",
    "#          Andres Hoyos-Idrobo, Apr 2017\n",
    "import numpy as np\n",
    "import matplotlib.pyplot as plt\n",
    "from nilearn import datasets\n",
    "from nilearn.input_data import NiftiMasker\n",
    "from nilearn.image import get_data\n",
    "\n",
    "n_subjects = 1000  # more subjects requires more memory"
   ]
  },
  {
   "cell_type": "code",
   "execution_count": 11,
   "metadata": {
    "colab": {
     "base_uri": "https://localhost:8080/"
    },
    "id": "9orxFR923AtJ",
    "outputId": "f61f2205-bb47-44e8-af93-c2899ae9adfb"
   },
   "outputs": [
    {
     "name": "stdout",
     "output_type": "stream",
     "text": [
      "\u001b[?25l\r\u001b[K     |██████▉                         | 10kB 16.6MB/s eta 0:00:01\r\u001b[K     |█████████████▋                  | 20kB 21.0MB/s eta 0:00:01\r\u001b[K     |████████████████████▍           | 30kB 16.9MB/s eta 0:00:01\r\u001b[K     |███████████████████████████▏    | 40kB 11.1MB/s eta 0:00:01\r\u001b[K     |████████████████████████████████| 51kB 3.6MB/s \n",
      "\u001b[?25h  Building wheel for optax (setup.py) ... \u001b[?25l\u001b[?25hdone\n",
      "  Building wheel for dm-haiku (setup.py) ... \u001b[?25l\u001b[?25hdone\n"
     ]
    }
   ],
   "source": [
    "import torch\n",
    "import numpy as np\n",
    "from tqdm import tqdm\n",
    "from copy import deepcopy\n",
    "import matplotlib\n",
    "import matplotlib.pyplot as plt\n",
    "import seaborn as sns\n",
    "from tqdm import tqdm\n",
    "np.set_printoptions(precision=5, suppress=True)\n",
    "import tensorflow as tf\n",
    "import tensorflow_datasets as tfds\n",
    "\n",
    "from typing import Any, Generator, Mapping, Tuple\n",
    "!pip install -q git+git://github.com/deepmind/optax.git\n",
    "!pip install -q git+https://github.com/deepmind/dm-haiku\n",
    "from absl import app\n",
    "import haiku as hk\n",
    "import jax\n",
    "import jax.numpy as jnp\n",
    "import numpy as np\n",
    "import optax\n",
    "from optax._src import transform\n",
    "from jax import jit, grad, vmap\n",
    "from jax.tree_util import tree_structure\n",
    "\n",
    "import matplotlib.pyplot as plt\n",
    "import seaborn as sns\n",
    "from sklearn.metrics import confusion_matrix\n",
    "from sklearn.metrics import precision_recall_fscore_support\n",
    "from matplotlib.pyplot import figure\n"
   ]
  },
  {
   "cell_type": "code",
   "execution_count": 172,
   "metadata": {
    "id": "kG08pHtL9dNS"
   },
   "outputs": [],
   "source": [
    "from nilearn.image import index_img, smooth_img\n",
    "from torchvision import transforms, utils\n",
    "import pickle \n",
    "import torch\n",
    "from torch.utils.data import Dataset, DataLoader\n",
    "from nilearn.masking import apply_mask\n",
    "\n",
    "import haiku as hk\n",
    "\n",
    "class mriDatasetAllSubjects(Dataset):\n",
    "    \"\"\"MRI dataset when all subjects data is mixed.\"\"\"\n",
    "\n",
    "    def __init__(self, root_dir, files_paths,labels,format, mask,transform=None):\n",
    "        # event_file could be added when real data is available.\n",
    "        # add this argument later: tsv_file\n",
    "        \"\"\"\n",
    "        Args:\n",
    "            files_paths (string): Path to the (f]mri) file (nifti or npy).\n",
    "            root_dir (string): Directory with all the images.\n",
    "            transform (callable, optional): Optional transform to be applied\n",
    "                on a sample, i.e. flattening and subsampling.\n",
    "        \"\"\"\n",
    "        self.root_dir = root_dir\n",
    "        self.mask=mask\n",
    "\n",
    "        if format is 'nifti':\n",
    "            self.number_of_subjects = len(files_paths)\n",
    "            self.labels = labels\n",
    "\n",
    "            # list of NiftiImage objects for different subjects, i.e., if there are \"two\"\n",
    "            # subjects, then X contains \"two\" 4-D images of shape (x_dim,y_dim,z_dim,time)\n",
    "            X = []\n",
    "\n",
    "            # list of events\n",
    "            Y = []\n",
    "\n",
    "            # This loop goes over the nifti images of the subjects\n",
    "            for index, image_path in enumerate(files_paths):\n",
    "                # load image and remove nan and inf values.\n",
    "                # applying smooth_img to an image with fwhm=None simply cleans up\n",
    "                # non-finite values but otherwise doesn't modify the image.\n",
    "                self.path = os.path.join(self.root_dir, image_path)\n",
    "                image = smooth_img(self.path, fwhm=None)\n",
    "                #image = apply_mask(self.path, self.mask)\n",
    "                X.append(image)\n",
    "            \n",
    "            self.subject_frames = np.array(X)\n",
    "                                 \n",
    "            # self.subject_frames = np.array(\n",
    "            #                     [X[i].get_fdata() for i in range(self.number_of_subjects)])\n",
    "\n",
    "        else:\n",
    "            print(\"Broken for now.\")\n",
    "            # self.labels = list_of_labels\n",
    "            #\n",
    "            # self.path = os.path.join(self.root_dir, files_paths)\n",
    "            #\n",
    "            # image = np.load(self.path, encoding='bytes')\n",
    "            # #image = np.reshape(image, (images.shape[1], images.shape[2], images.shape[3], images.shape[0]))\n",
    "            #\n",
    "            # self.subject_frames = images\n",
    "\n",
    "        self.transform = transform\n",
    "\n",
    "    def __len__(self):\n",
    "        return (self.subject_frames).shape[0]\n",
    "\n",
    "    def __getitem__(self, idx):\n",
    "        if torch.is_tensor(idx):\n",
    "            idx = idx.tolist()\n",
    "        print(self.suject_frames.shape)\n",
    "\n",
    "        sample = self.subject_frames[idx, :, :, :]\n",
    "\n",
    "        if self.transform:\n",
    "            sample = self.transform(sample)\n",
    "\n",
    "        return sample, self.labels[idx]\n",
    "\n",
    "\n",
    "# In case we wanted to do experiments with ILC intra subjects\n",
    "class mriDatasetSubject(Dataset):\n",
    "    \"\"\"MRI dataset for each subject.\"\"\"\n",
    "\n",
    "    def __init__(self, root_dir, mri_paths,ages,list_of_partitions,format,transform=None):\n",
    "        # event_file could be added when real data is available.\n",
    "        # add this argument later: tsv_file\n",
    "        \"\"\"\n",
    "        Args:\n",
    "            file_path (string): Path to the (fmri) file (nifti or npy).\n",
    "            root_dir (string): Directory with all the images.\n",
    "            transform (callable, optional): Optional transform to be applied\n",
    "                on a sample, i.e. flattening and subsampling.\n",
    "        \"\"\"\n",
    "\n",
    "        self.root_dir = root_dir\n",
    "        self.mri_paths = mri_paths\n",
    "        self.ages = ages\n",
    "        self.path = os.path.join(self.root_dir, self.mri_paths)\n",
    "\n",
    "        if format is 'nifti':\n",
    "            self.subject_frames = smooth_img(self.path, fwhm=None).get_fdata()\n",
    "            self.subject_frames = self.subject_frames[:, :, :, list_IDs]\n",
    "\n",
    "        else:\n",
    "\n",
    "            images = np.load(self.path, encoding='bytes')\n",
    "            images = images[list_IDs, :, :, :]\n",
    "            images = np.reshape(images, (images.shape[1], images.shape[2], images.shape[3], images.shape[0]))\n",
    "            self.subject_frames = images\n",
    "\n",
    "        self.transform = transform\n",
    "\n",
    "    def __len__(self):\n",
    "        return (self.subject_frames).shape[3]\n",
    "\n",
    "    def __getitem__(self, idx):\n",
    "\n",
    "        sample = self.subject_frames[:, :, :, idx]\n",
    "\n",
    "        if self.transform:\n",
    "            sample = self.transform(sample)\n",
    "\n",
    "        return sample, self.labels[idx]\n",
    "\n",
    "\n",
    "class Flatten(object):\n",
    "    \"\"\"flatten the 3D image of a timestep.\n",
    "\n",
    "    Args:\n",
    "    \"\"\"\n",
    "\n",
    "    def __init__(self):\n",
    "        pass\n",
    "\n",
    "    def __call__(self, sample):\n",
    "\n",
    "        dim_x = sample.shape[0]\n",
    "        dim_y = sample.shape[1]\n",
    "        dim_z = sample.shape[2]\n",
    "\n",
    "        sample = sample.reshape(dim_x*dim_y,dim_z)\n",
    "        sample = sample.reshape(sample.shape[0]*dim_z)\n",
    "        return sample\n",
    "\n",
    "class Subsample(object):\n",
    "    \"\"\"subsample the 3D image of a timestep.\n",
    "\n",
    "    Args:\n",
    "    \"\"\"\n",
    "\n",
    "    def __init__(self, subsample_rate_x,subsample_rate_y,subsample_rate_z):\n",
    "        self.rate_x = subsample_rate_x\n",
    "        self.rate_y = subsample_rate_y\n",
    "        self.rate_z = subsample_rate_z\n",
    "\n",
    "    def __call__(self, sample):\n",
    "\n",
    "        dim_x = sample.shape[0]\n",
    "        dim_y = sample.shape[1]\n",
    "        dim_z = sample.shape[2]\n",
    "\n",
    "        indexes_x = range(0,dim_x,self.rate_x)\n",
    "        indexes_y = range(0,dim_y,self.rate_y)\n",
    "        indexes_z = range(0,dim_z,self.rate_z)\n",
    "\n",
    "        sample = sample[indexes_x,:,:]\n",
    "        sample = sample[:,indexes_y,:]\n",
    "        sample = sample[:,:,indexes_z]\n",
    "\n",
    "        return sample\n"
   ]
  },
  {
   "cell_type": "markdown",
   "metadata": {
    "id": "rlrkW8aJBshr"
   },
   "source": [
    "## Linear regression code"
   ]
  },
  {
   "cell_type": "code",
   "execution_count": 63,
   "metadata": {
    "id": "Bf-UbQROJ2Lk"
   },
   "outputs": [],
   "source": [
    "### JAX Code\n",
    "class ANDMaskState(optax.OptState):\n",
    "  \"\"\"Stateless.\"\"\" # Following optax code style\n",
    "\n",
    "def and_mask(agreement_threshold: float) -> optax.GradientTransformation:\n",
    "  def init_fn(_):\n",
    "    # Required by optax\n",
    "    return ANDMaskState()\n",
    "\n",
    "  def update_fn(updates, opt_state, params=None):\n",
    "\n",
    "    def and_mask(update):\n",
    "      # Compute the masked gradients for a single parameter tensor\n",
    "      mask = jnp.abs(jnp.mean(jnp.sign(update), 0)) >= agreement_threshold\n",
    "      mask = mask.astype(jnp.float32)\n",
    "      avg_update = jnp.mean(update, 0)\n",
    "      mask_t = mask.sum() / mask.size\n",
    "      update = mask * avg_update * (1. / (1e-10 + mask_t))\n",
    "      return update\n",
    "\n",
    "    del params # Following optax code style\n",
    "    \n",
    "    # Compute the masked gradients over all parameters\n",
    "\n",
    "    # jax.tree_map maps a function (lambda function in this case) over a pytree to produce a new pytree.\n",
    "    updates = jax.tree_map(lambda x: and_mask(x), updates)\n",
    "    return updates, opt_state\n",
    "\n",
    "  return transform.GradientTransformation(init_fn, update_fn)\n"
   ]
  },
  {
   "cell_type": "code",
   "execution_count": 149,
   "metadata": {
    "id": "sxJk0yy224Hs"
   },
   "outputs": [],
   "source": [
    "\n",
    "OptState = Any\n",
    "Batch = Mapping[str, np.ndarray]\n",
    "\n",
    "def linear_regression(train=None, test=None, adam_lr=0.3, agreement_threshold=0.0,\n",
    "                               use_ilc=False, l1_coef=1e-4, l2_coef=1e-4,\n",
    "                               epochs=1001, Verbose=False, training=True, normalizer=255.):\n",
    "  \n",
    "    training_loss = []\n",
    "    testing_loss = []\n",
    "\n",
    "    def net_fn(batch) -> jnp.ndarray:\n",
    "        x = jnp.array(batch, jnp.float32) / normalizer\n",
    "        mlp = hk.Sequential([\n",
    "            hk.Flatten(),\n",
    "            hk.Linear(1, with_bias=True)\n",
    "        ])\n",
    "        return mlp(x)\n",
    "\n",
    "    \n",
    "\n",
    "    # Make the network and optimiser.\n",
    "    net = hk.without_apply_rng(hk.transform(net_fn))\n",
    "        \n",
    "    # Training loss (cross-entropy).\n",
    "    def loss(params: hk.Params, batch, label) -> jnp.ndarray:\n",
    "        \"\"\"Compute the loss of the network, including L2.\"\"\"\n",
    "        logits = net.apply(params, batch)\n",
    "        msl = 0.5 * jnp.sum(jnp.power(logits - label,2)) / batch.shape[0]\n",
    "\n",
    "        return msl \n",
    "\n",
    "        \n",
    "    # Regularization loss (L1,L2).\n",
    "    def regularization_loss(params: hk.Params) -> jnp.ndarray:\n",
    "        \"\"\"Compute the regularization loss of the network, applied after ILC.\"\"\"\n",
    "\n",
    "        # L1 Loss\n",
    "        sum_in_layer = lambda p: jnp.sum(jnp.abs(p))\n",
    "        sum_p_layers = [sum_in_layer(p) for p in jax.tree_leaves(params)]\n",
    "        l1_loss = sum(sum_p_layers)\n",
    "\n",
    "        # L2 Loss\n",
    "        l2_loss = 0.5 * sum(jnp.sum(jnp.square(p)) for p in jax.tree_leaves(params))\n",
    "\n",
    "        return l2_coef * l2_loss + l1_coef * l1_loss\n",
    "\n",
    "    @jax.jit\n",
    "    def gradient_per_sample(params, batch, label):\n",
    "        batch, label = jnp.expand_dims(batch,1), jnp.expand_dims(label,1)\n",
    "        return vmap(grad(loss), in_axes=(None, 0, 0))(params, batch, label)\n",
    "\n",
    "    gradient = jax.jit(grad(loss))\n",
    "    gradient_reg = jax.jit(grad(regularization_loss))\n",
    "\n",
    "    @jax.jit\n",
    "    def update(\n",
    "        params: hk.Params,\n",
    "        opt_state: OptState,\n",
    "        batch, label, agreement\n",
    "        ) -> Tuple[hk.Params, OptState]:\n",
    "        \"\"\"Learning rule (stochastic gradient descent).\"\"\"\n",
    "        # grads_masked = (gradient_per_sample if use_ilc else gradient)(params, batch, label) # (gradient_per_sample)(params, batch, label)\n",
    "        # sum_grad_masked_regularized = jax.tree_multimap(lambda x,y:x+y,grads_masked,gradient_reg(params))\n",
    "        # grads = sum_grad_masked_regularized\n",
    "        # updates, opt_state = opt.update(grads, opt_state)\n",
    "        # new_params = optax.apply_updates(params, updates)\n",
    "\n",
    "        # grads = gradient(params, batch, label)\n",
    "        grads_samples = gradient_per_sample(params, batch, label)\n",
    "        ANDmask = and_mask(agreement)\n",
    "\n",
    "        masked_grads,_ = ANDmask.update(grads_samples, opt_state)\n",
    "        reg_grads = gradient_reg(params)\n",
    "\n",
    "        sum_grad_masked_regularized = jax.tree_multimap(lambda x,y:x+y,masked_grads,reg_grads)\n",
    " \n",
    "        updates,_ = opt.update(sum_grad_masked_regularized, opt_state)\n",
    "\n",
    "        new_params = optax.apply_updates(params, updates)\n",
    "\n",
    "        return new_params, opt_state\n",
    "        \n",
    "    # We maintain avg_params, the exponential moving average of the \"live\" params.\n",
    "    # avg_params is used only for evaluation.\n",
    "    # For more, see: https://doi.org/10.1137/0330046\n",
    "    @jax.jit\n",
    "    def ema_update(\n",
    "        avg_params: hk.Params,\n",
    "        new_params: hk.Params,\n",
    "        epsilon: float = 0.01,\n",
    "    ) -> hk.Params:\n",
    "        return jax.tree_multimap(lambda p1, p2: (1 - epsilon) * p1 + epsilon * p2,\n",
    "                                avg_params, new_params)\n",
    "    \n",
    "    if training is False:\n",
    "        return net\n",
    "    else:\n",
    "        if(use_ilc):\n",
    "\n",
    "            use_ilc = False\n",
    "\n",
    "            # opt = optax.chain(and_mask(agreement_threshold) if use_ilc else optax.identity(),optax.adam(adam_lr))\n",
    "\n",
    "            # schedule_fn = optax.exponential_decay(adam_lr, # Note the minus sign!\n",
    "            # 1,\n",
    "            # 0.9)\n",
    "            # opt = optax.chain(optax.sgd(adam_lr), optax.scale_by_schedule(schedule_fn)) # Or Adam could be used\n",
    "            opt = optax.chain(optax.adam(adam_lr)) # Or Adam could be used\n",
    "\n",
    "            # Initialize network and optimiser; note we draw an input to get shapes.\n",
    "            params = avg_params = net.init(jax.random.PRNGKey(42), next(iter(train))[0])\n",
    "            opt_state = opt.init(params)\n",
    "\n",
    "            # Train/eval loop. WITHOUT ILC\n",
    "            print(\"Begin training with ILC\")\n",
    "            for step in range(np.int(.5*epochs)):\n",
    "                if step % np.int(epochs/10) == 0:\n",
    "                    # Periodically evaluate classification accuracy on train & test sets.\n",
    "                    Batch = next(iter(train))\n",
    "                    train_loss = loss(avg_params, jnp.array(Batch[0]), jnp.array(Batch[1]))\n",
    "                    train_loss = jax.device_get(train_loss)\n",
    "                    Batch = next(iter(test))\n",
    "                    test_loss = loss(avg_params, jnp.array(Batch[0]), jnp.array(Batch[1]))\n",
    "                    test_loss = jax.device_get(test_loss)\n",
    "                    training_loss.append(train_loss)\n",
    "                    testing_loss.append(test_loss)\n",
    "                    if Verbose:\n",
    "                        print(f\"[ILC Off, Step {step}] Train loss/Test loss: \"\n",
    "                                f\"{train_loss:.3f} / {test_loss:.3f}.\")\n",
    "\n",
    "                # Do SGD on a batch of training examples.\n",
    "                Batch = next(iter(train))\n",
    "                params, opt_state = update(params, opt_state, jnp.array(Batch[0]), jnp.array(Batch[1]), 0.)\n",
    "                avg_params = ema_update(avg_params, params)\n",
    "            \n",
    "\n",
    "            use_ilc = True\n",
    "\n",
    "            \n",
    "            # Train/eval loop. WITH ILC\n",
    "            for step in range(np.int(.5*epochs)):\n",
    "                if step % np.int(epochs/10) == 0:\n",
    "                    # Periodically evaluate classification accuracy on train & test sets.\n",
    "                    Batch = next(iter(train))\n",
    "                    train_loss = loss(avg_params, jnp.array(Batch[0]), jnp.array(Batch[1]))\n",
    "                    train_loss = jax.device_get(train_loss)\n",
    "                    Batch = next(iter(test))\n",
    "                    test_loss = loss(avg_params, jnp.array(Batch[0]), jnp.array(Batch[1]))\n",
    "                    test_loss = jax.device_get(test_loss)\n",
    "                    training_loss.append(train_loss)\n",
    "                    testing_loss.append(test_loss)\n",
    "                    if Verbose:\n",
    "                        print(f\"[ILC On, Step {step}] Train loss/Test loss: \"\n",
    "                                f\"{train_loss:.3f} / {test_loss:.3f}.\")\n",
    "\n",
    "                # Do SGD on a batch of training examples.\n",
    "                Batch = next(iter(train))\n",
    "                params, opt_state = update(params, opt_state, jnp.array(Batch[0]), jnp.array(Batch[1]), agreement_threshold)\n",
    "                avg_params = ema_update(avg_params, params)\n",
    "          \n",
    "\n",
    "            return params, training_loss, testing_loss\n",
    "\n",
    "        else:\n",
    "                \n",
    "            # schedule_fn = optax.exponential_decay(adam_lr, # Note the minus sign!\n",
    "            # 1,\n",
    "            # 0.9)\n",
    "            # opt = optax.chain(optax.sgd(adam_lr), optax.scale_by_schedule(schedule_fn)) # Or Adam could be used\n",
    "            opt = optax.chain(optax.adam(adam_lr))\n",
    "\n",
    "            # Initialize network and optimiser; note we draw an input to get shapes.\n",
    "            params = avg_params = net.init(jax.random.PRNGKey(42), next(iter(train))[0])\n",
    "            opt_state = opt.init(params)\n",
    "\n",
    "            # Train/eval loop. \n",
    "            print(\"Begin training without ILC\")\n",
    "            for step in range(np.int(epochs)):\n",
    "                if step % np.int(epochs/10) == 0:\n",
    "                    # Periodically evaluate classification accuracy on train & test sets.\n",
    "                    Batch = next(iter(train))\n",
    "                    train_loss = loss(avg_params, jnp.array(Batch[0]), jnp.array(Batch[1]))\n",
    "                    train_loss = jax.device_get(train_loss)\n",
    "                    Batch = next(iter(test))\n",
    "                    test_loss = loss(avg_params, jnp.array(Batch[0]), jnp.array(Batch[1]))\n",
    "                    test_loss = jax.device_get(test_loss)\n",
    "                    training_loss.append(train_loss)\n",
    "                    testing_loss.append(test_loss)\n",
    "                    if Verbose:\n",
    "                        print(f\"[ADAM, Step {step}] Train loss/Test loss: \"\n",
    "                                f\"{train_loss:.3f} / {test_loss:.3f}.\")\n",
    "                        \n",
    "                # Do SGD on a batch of training examples.\n",
    "                Batch = next(iter(train))\n",
    "                params, opt_state = update(params, opt_state, jnp.array(Batch[0]), jnp.array(Batch[1]), 0.)\n",
    "                avg_params = ema_update(avg_params, params)\n",
    "\n",
    "            \n",
    "            return params, training_loss, testing_loss"
   ]
  },
  {
   "cell_type": "markdown",
   "metadata": {
    "id": "81TfbBQvxgR_"
   },
   "source": [
    "Load Oasis dataset\n",
    "-------------------\n",
    "\n"
   ]
  },
  {
   "cell_type": "code",
   "execution_count": 131,
   "metadata": {
    "colab": {
     "base_uri": "https://localhost:8080/"
    },
    "id": "ZgUAexuCxgSA",
    "outputId": "be7b9eb1-53c1-41d5-ae71-8ab30bc584c2"
   },
   "outputs": [
    {
     "name": "stdout",
     "output_type": "stream",
     "text": [
      "First gray-matter anatomy image (3D) is located at: /root/nilearn_data/oasis1/OAS1_0001_MR1/mwrc1OAS1_0001_MR1_mpr_anon_fslswapdim_bet.nii.gz\n",
      "First white-matter anatomy image (3D) is located at: /root/nilearn_data/oasis1/OAS1_0001_MR1/mwrc2OAS1_0001_MR1_mpr_anon_fslswapdim_bet.nii.gz\n"
     ]
    },
    {
     "name": "stderr",
     "output_type": "stream",
     "text": [
      "/usr/local/lib/python3.6/dist-packages/nilearn/datasets/struct.py:317: UserWarning: Only 403 subjects are available in the DARTEL-normalized version of the dataset. All of them will be used instead of the wanted 1000\n",
      "  % n_subjects)\n",
      "/usr/local/lib/python3.6/dist-packages/numpy/lib/npyio.py:2349: VisibleDeprecationWarning: Reading unicode strings without specifying the encoding argument is deprecated. Set the encoding, use None for the system default.\n",
      "  output = genfromtxt(fname, **kwargs)\n"
     ]
    }
   ],
   "source": [
    "oasis_dataset = datasets.fetch_oasis_vbm(n_subjects=n_subjects)\n",
    "gray_matter_map_filenames = oasis_dataset.gray_matter_maps\n",
    "age = oasis_dataset.ext_vars['age'].astype(float)\n",
    "\n",
    "# Split data into training set and test set\n",
    "from sklearn.model_selection import train_test_split\n",
    "gm_imgs_train, gm_imgs_test, age_train, age_test = train_test_split(\n",
    "    gray_matter_map_filenames, age, train_size=.6, random_state=0)\n",
    "\n",
    "# print basic information on the dataset\n",
    "print('First gray-matter anatomy image (3D) is located at: %s' %\n",
    "      oasis_dataset.gray_matter_maps[0])  # 3D data\n",
    "print('First white-matter anatomy image (3D) is located at: %s' %\n",
    "      oasis_dataset.white_matter_maps[0])  # 3D data"
   ]
  },
  {
   "cell_type": "markdown",
   "metadata": {
    "id": "z8Lv-KXDxgSB"
   },
   "source": [
    "Preprocess data\n",
    "----------------\n",
    "\n"
   ]
  },
  {
   "cell_type": "code",
   "execution_count": 144,
   "metadata": {
    "id": "rimbLwq6xgSB"
   },
   "outputs": [],
   "source": [
    "from nilearn.masking import apply_mask\n",
    "\n",
    "nifti_masker = NiftiMasker(\n",
    "    standardize=True,\n",
    "    smoothing_fwhm=2,\n",
    "    memory='nilearn_cache')  # cache options\n",
    "\n",
    "gm_maps_masked_train = nifti_masker.fit_transform(gm_imgs_train)\n",
    "gm_maps_masked_test = nifti_masker.fit_transform(gm_imgs_test)\n",
    "\n",
    "# The features with too low between-subject variance are removed using\n",
    "# :class:`sklearn.feature_selection.VarianceThreshold`.\n",
    "from sklearn.feature_selection import VarianceThreshold\n",
    "variance_threshold = VarianceThreshold(threshold=.01)\n",
    "gm_maps_thresholded_trained = variance_threshold.fit_transform(gm_maps_masked_train)\n",
    "gm_maps_masked_trained = variance_threshold.inverse_transform(gm_maps_thresholded_trained)\n",
    "\n",
    "gm_maps_thresholded_test = variance_threshold.fit_transform(gm_maps_masked_test)\n",
    "gm_maps_masked_test = variance_threshold.inverse_transform(gm_maps_thresholded_test)\n",
    "# Then we convert the data back to the mask image in order to use it for\n",
    "# decoding process\n",
    "mask = nifti_masker.inverse_transform(variance_threshold.get_support())\n"
   ]
  },
  {
   "cell_type": "markdown",
   "metadata": {
    "id": "mdqCrOaeB0ow"
   },
   "source": [
    "## Data Loader"
   ]
  },
  {
   "cell_type": "code",
   "execution_count": null,
   "metadata": {
    "id": "xFcpW1Gb-fH_"
   },
   "outputs": [],
   "source": [
    "import os\n",
    "batch_size = 32\n",
    "train = mriDatasetAllSubjects('', gm_imgs_train,age_train,format='nifti',mask=mask, transform=Subsample(2,2,2))\n",
    "train_generator = DataLoader(train, batch_size=batch_size,shuffle=False,drop_last=False)\n",
    "print(train_generator)\n",
    "Batch = next(iter(train_generator))\n",
    "print(Batch[0].shape,Batch[1])\n",
    "\n",
    "test = mriDatasetAllSubjects('', gm_imgs_test,age_test,format='nifti', mask=mask,transform=Subsample(2,2,2))\n",
    "test_generator = DataLoader(test, batch_size=batch_size,shuffle=False,drop_last=False)\n"
   ]
  },
  {
   "cell_type": "code",
   "execution_count": 125,
   "metadata": {
    "colab": {
     "base_uri": "https://localhost:8080/"
    },
    "id": "S7aNjIiOFOxZ",
    "outputId": "6e079b83-c528-42fc-d9fd-83e7d406437f"
   },
   "outputs": [
    {
     "name": "stdout",
     "output_type": "stream",
     "text": [
      "Begin training without ILC\n",
      "[ADAM, Step 0] Train loss/Test loss: 52081.441 / 46650.129.\n",
      "[ADAM, Step 40] Train loss/Test loss: 2645857.000 / 2879109.000.\n",
      "[ADAM, Step 80] Train loss/Test loss: 8114253.000 / 8746931.000.\n",
      "[ADAM, Step 120] Train loss/Test loss: 13443176.000 / 14450345.000.\n",
      "[ADAM, Step 160] Train loss/Test loss: 17755762.000 / 19061466.000.\n",
      "[ADAM, Step 200] Train loss/Test loss: 20975354.000 / 22502272.000.\n",
      "[ADAM, Step 240] Train loss/Test loss: 23278916.000 / 24963418.000.\n",
      "[ADAM, Step 280] Train loss/Test loss: 24886950.000 / 26681168.000.\n",
      "[ADAM, Step 320] Train loss/Test loss: 25992668.000 / 27862226.000.\n",
      "[ADAM, Step 360] Train loss/Test loss: 26745780.000 / 28666584.000.\n",
      "Begin training with ILC\n",
      "[ILC Off, Step 0] Train loss/Test loss: 52081.441 / 46650.129.\n",
      "[ILC Off, Step 40] Train loss/Test loss: 2645857.000 / 2879109.000.\n",
      "[ILC Off, Step 80] Train loss/Test loss: 8114253.000 / 8746931.000.\n",
      "[ILC Off, Step 120] Train loss/Test loss: 13443176.000 / 14450345.000.\n",
      "[ILC Off, Step 160] Train loss/Test loss: 17755762.000 / 19061466.000.\n",
      "[ILC On, Step 0] Train loss/Test loss: 20975354.000 / 22502272.000.\n",
      "[ILC On, Step 40] Train loss/Test loss: 23227736.000 / 24825286.000.\n",
      "[ILC On, Step 80] Train loss/Test loss: 24798854.000 / 26444930.000.\n",
      "[ILC On, Step 120] Train loss/Test loss: 25878662.000 / 27557810.000.\n",
      "[ILC On, Step 160] Train loss/Test loss: 26613916.000 / 28315416.000.\n"
     ]
    },
    {
     "data": {
      "text/plain": [
       "[None, None, None, None, None, None, None, None, None, None]"
      ]
     },
     "execution_count": 125,
     "metadata": {
      "tags": []
     },
     "output_type": "execute_result"
    }
   ],
   "source": [
    "results = []\n",
    "nepochs=400\n",
    "l2_ilc = 1e-4\n",
    "l1_ilc = 1e-4\n",
    "agreement_threshold=0.4\n",
    "ilc_start_epoch = .5\n",
    "\n",
    "OptState = Any\n",
    "Batch = Mapping[str, np.ndarray]\n",
    "\n",
    "\n",
    "params, sgd_train_loss, sgd_test_loss = linear_regression(train=train_generator, test=test_generator, adam_lr=0.3, agreement_threshold=0,\n",
    "                                                        use_ilc=False, l1_coef=l1_ilc, l2_coef=l2_ilc,\n",
    "                                                        epochs=nepochs, Verbose=True, training=True, normalizer=1.)\n",
    "[results.append({'Epoch':i,'Method': 'SGD', 'Loss': sgd_train_loss[i],'Set':'Train'}) for i in range(len(sgd_train_loss))]\n",
    "[results.append({'Epoch':i,'Method': 'SGD', 'Loss': sgd_test_loss[i],'Set':'Test'}) for i in range(len(sgd_test_loss))]\n",
    "\n",
    "params, sgd_ilc_train_loss, sgd_ilc_test_loss = linear_regression(train=train_generator, test=test_generator, adam_lr=0.3, agreement_threshold=agreement_threshold,\n",
    "                                                        use_ilc=True, l1_coef=l1_ilc, l2_coef=l2_ilc,\n",
    "                                                        epochs=nepochs, Verbose=True, training=True, normalizer=1.)\n",
    "[results.append({'Epoch':i,'Method': 'SGD-ILC', 'Loss': sgd_ilc_train_loss[i],'Set':'Train'}) for i in range(len(sgd_ilc_train_loss))]\n",
    "[results.append({'Epoch':i,'Method': 'SGD-ILC', 'Loss': sgd_ilc_test_loss[i],'Set':'Test'}) for i in range(len(sgd_ilc_test_loss))]\n"
   ]
  },
  {
   "cell_type": "code",
   "execution_count": 122,
   "metadata": {
    "id": "wrrQMpttKII4"
   },
   "outputs": [],
   "source": [
    "import seaborn as sns\n",
    "import matplotlib.pyplot as plt\n",
    "\n",
    "def plot_results(df,title):\n",
    "    sns.lineplot(x='Epoch',y='Loss',hue='Method',style='Set',data=df)\n",
    "    plt.axvline(ilc_start_epoch*df.Epoch.max(),0,1,color='grey')\n",
    "    plt.title(title)\n",
    "    \n",
    "\n"
   ]
  },
  {
   "cell_type": "code",
   "execution_count": 124,
   "metadata": {
    "colab": {
     "base_uri": "https://localhost:8080/",
     "height": 295
    },
    "id": "ey8gJM1JLU1C",
    "outputId": "da148554-f91e-48ee-ca60-6e4852626eb0"
   },
   "outputs": [
    {
     "data": {
      "image/png": "[encoded data removed]",
      "text/plain": [
       "<Figure size 432x288 with 1 Axes>"
      ]
     },
     "metadata": {
      "needs_background": "light",
      "tags": []
     },
     "output_type": "display_data"
    }
   ],
   "source": [
    "%matplotlib inline\n",
    "\n",
    "import pandas as pd\n",
    "df = pd.DataFrame(results)\n",
    "df.Loss = df.Loss.astype('float')\n",
    "df.Epoch = nepochs*df.Epoch/10\n",
    "\n",
    "plot_results(df,f\"Number of subject: {n_subjects}, Batch size: {batch_size}, Agreement: {agreement_threshold}, l1: {l1_ilc}, l1: {l2_ilc}\")"
   ]
  },
  {
   "cell_type": "markdown",
   "metadata": {
    "id": "GcUISEJuxgSC"
   },
   "source": [
    "Prediction pipeline with ANOVA and SVR using\n",
    ":class:`nilearn.decoding.DecoderRegressor` Object\n",
    "\n"
   ]
  },
  {
   "cell_type": "code",
   "execution_count": 7,
   "metadata": {
    "colab": {
     "base_uri": "https://localhost:8080/"
    },
    "id": "vXFYjTAixgSD",
    "outputId": "095f00e7-9e53-4325-ff11-a1c9bb8efea2"
   },
   "outputs": [
    {
     "name": "stdout",
     "output_type": "stream",
     "text": [
      "=== DECODER ===\n",
      "explained variance for the cross-validation: 10.670598\n",
      "\n"
     ]
    }
   ],
   "source": [
    "# In nilearn we can benefit from the built-in DecoderRegressor object to\n",
    "# do ANOVA with SVR instead of manually defining the whole pipeline.\n",
    "# This estimator also uses Cross Validation to select best models and ensemble\n",
    "# them. Furthermore, you can pass n_jobs=<some_high_value> to the\n",
    "# DecoderRegressor class to take advantage of a multi-core system.\n",
    "# To save time (because these are anat images with many voxels), we include\n",
    "# only the 1-percent voxels most correlated with the age variable to fit. We\n",
    "# also want to set mask hyperparameter to be the mask we just obtained above.\n",
    "\n",
    "from nilearn.decoding import DecoderRegressor\n",
    "decoder = DecoderRegressor(estimator='svr', mask=mask,\n",
    "                           scoring='neg_mean_absolute_error',\n",
    "                           screening_percentile=1,\n",
    "                           n_jobs=1)\n",
    "# Fit and predict with the decoder\n",
    "decoder.fit(gm_imgs_train, age_train)\n",
    "\n",
    "# Sort test data for better visualization (trend, etc.)\n",
    "perm = np.argsort(age_test)[::-1]\n",
    "age_test = age_test[perm]\n",
    "gm_imgs_test = np.array(gm_imgs_test)[perm]\n",
    "age_pred = decoder.predict(gm_imgs_test)\n",
    "\n",
    "prediction_score = -np.mean(decoder.cv_scores_['beta'])\n",
    "\n",
    "print(\"=== DECODER ===\")\n",
    "print(\"explained variance for the cross-validation: %f\" % prediction_score)\n",
    "print(\"\")"
   ]
  },
  {
   "cell_type": "markdown",
   "metadata": {
    "id": "CewsnEHVxgSH"
   },
   "source": [
    "Visualization\n",
    "--------------\n",
    "\n"
   ]
  },
  {
   "cell_type": "code",
   "execution_count": 8,
   "metadata": {
    "colab": {
     "base_uri": "https://localhost:8080/",
     "height": 251
    },
    "id": "uwceN_4WxgSJ",
    "outputId": "a665f78c-8e63-4170-dec3-6a545047d7f0"
   },
   "outputs": [
    {
     "name": "stderr",
     "output_type": "stream",
     "text": [
      "/usr/local/lib/python3.6/dist-packages/nilearn/plotting/displays.py:1609: MatplotlibDeprecationWarning: Adding an axes using the same arguments as a previous axes currently reuses the earlier instance.  In a future version, a new instance will always be created and returned.  Meanwhile, this warning can be suppressed, and the future behavior ensured, by passing a unique label to each axes instance.\n",
      "  fraction * (x1 - x0), y1 - y0])\n"
     ]
    },
    {
     "data": {
      "image/png": "[encoded data removed]",
      "text/plain": [
       "<Figure size 208.8x165.6 with 2 Axes>"
      ]
     },
     "metadata": {
      "tags": []
     },
     "output_type": "display_data"
    }
   ],
   "source": [
    "weight_img = decoder.coef_img_['beta']\n",
    "\n",
    "# Create the figure\n",
    "from nilearn.plotting import plot_stat_map, show\n",
    "bg_filename = gray_matter_map_filenames[0]\n",
    "z_slice = 0\n",
    "display = plot_stat_map(weight_img, bg_img=bg_filename,\n",
    "                        display_mode='z', cut_coords=[z_slice])\n",
    "display.title(\"SVM weights\")\n",
    "show()"
   ]
  },
  {
   "cell_type": "markdown",
   "metadata": {
    "id": "-6_6FBzexgSN"
   },
   "source": [
    "Visualize the quality of predictions\n",
    "-------------------------------------\n",
    "\n"
   ]
  },
  {
   "cell_type": "code",
   "execution_count": 9,
   "metadata": {
    "colab": {
     "base_uri": "https://localhost:8080/",
     "height": 646
    },
    "id": "bRUl-Z5kxgSO",
    "outputId": "f1be420d-6eb6-4f90-a334-28fcef837807"
   },
   "outputs": [
    {
     "data": {
      "text/plain": [
       "<matplotlib.legend.Legend at 0x7f49c38d5b70>"
      ]
     },
     "execution_count": 9,
     "metadata": {
      "tags": []
     },
     "output_type": "execute_result"
    },
    {
     "data": {
      "image/png": "[encoded data removed]",
      "text/plain": [
       "<Figure size 432x324 with 1 Axes>"
      ]
     },
     "metadata": {
      "needs_background": "light",
      "tags": []
     },
     "output_type": "display_data"
    },
    {
     "data": {
      "image/png": "[encoded data removed]",
      "text/plain": [
       "<Figure size 432x324 with 1 Axes>"
      ]
     },
     "metadata": {
      "needs_background": "light",
      "tags": []
     },
     "output_type": "display_data"
    }
   ],
   "source": [
    "plt.figure(figsize=(6, 4.5))\n",
    "plt.suptitle(\"Decoder: Mean Absolute Error %.2f years\" % prediction_score)\n",
    "linewidth = 3\n",
    "plt.plot(age_test, label=\"True age\", linewidth=linewidth)\n",
    "plt.plot(age_pred, '--', c=\"g\", label=\"Predicted age\", linewidth=linewidth)\n",
    "plt.ylabel(\"age\")\n",
    "plt.xlabel(\"subject\")\n",
    "plt.legend(loc=\"best\")\n",
    "plt.figure(figsize=(6, 4.5))\n",
    "plt.plot(age_test - age_pred, label=\"True age - predicted age\",\n",
    "         linewidth=linewidth)\n",
    "plt.xlabel(\"subject\")\n",
    "plt.legend(loc=\"best\")"
   ]
  },
  {
   "cell_type": "markdown",
   "metadata": {
    "id": "WLdE6IWfxgSP"
   },
   "source": [
    "Inference with massively univariate model\n",
    "-----------------------------------------\n",
    "\n"
   ]
  },
  {
   "cell_type": "code",
   "execution_count": 10,
   "metadata": {
    "colab": {
     "base_uri": "https://localhost:8080/",
     "height": 632
    },
    "id": "MfYPqMGfxgSR",
    "outputId": "da04a735-5f59-4e7b-ba8c-a088eefd2052"
   },
   "outputs": [
    {
     "name": "stdout",
     "output_type": "stream",
     "text": [
      "Massively univariate model\n"
     ]
    },
    {
     "name": "stderr",
     "output_type": "stream",
     "text": [
      "/usr/local/lib/python3.6/dist-packages/nilearn/plotting/displays.py:1609: MatplotlibDeprecationWarning: Adding an axes using the same arguments as a previous axes currently reuses the earlier instance.  In a future version, a new instance will always be created and returned.  Meanwhile, this warning can be suppressed, and the future behavior ensured, by passing a unique label to each axes instance.\n",
      "  fraction * (x1 - x0), y1 - y0])\n"
     ]
    },
    {
     "name": "stdout",
     "output_type": "stream",
     "text": [
      "\n",
      "1975 detections\n"
     ]
    },
    {
     "data": {
      "image/png": "[encoded data removed]",
      "text/plain": [
       "<Figure size 396x540 with 2 Axes>"
      ]
     },
     "metadata": {
      "tags": []
     },
     "output_type": "display_data"
    }
   ],
   "source": [
    "print(\"Massively univariate model\")\n",
    "\n",
    "gm_maps_masked = NiftiMasker().fit_transform(gray_matter_map_filenames)\n",
    "data = variance_threshold.fit_transform(gm_maps_masked)\n",
    "\n",
    "# Statistical inference\n",
    "from nilearn.mass_univariate import permuted_ols\n",
    "neg_log_pvals, t_scores_original_data, _ = permuted_ols(\n",
    "    age, data,  # + intercept as a covariate by default\n",
    "    n_perm=2000,  # 1,000 in the interest of time; 10000 would be better\n",
    "    n_jobs=1)  # can be changed to use more CPUs\n",
    "signed_neg_log_pvals = neg_log_pvals * np.sign(t_scores_original_data)\n",
    "signed_neg_log_pvals_unmasked = nifti_masker.inverse_transform(\n",
    "    variance_threshold.inverse_transform(signed_neg_log_pvals))\n",
    "\n",
    "# Show results\n",
    "threshold = -np.log10(0.1)  # 10% corrected\n",
    "\n",
    "fig = plt.figure(figsize=(5.5, 7.5), facecolor='k')\n",
    "\n",
    "display = plot_stat_map(signed_neg_log_pvals_unmasked, bg_img=bg_filename,\n",
    "                        threshold=threshold, cmap=plt.cm.RdBu_r,\n",
    "                        display_mode='z', cut_coords=[z_slice],\n",
    "                        figure=fig)\n",
    "title = ('Negative $\\\\log_{10}$ p-values'\n",
    "         '\\n(Non-parametric + max-type correction)')\n",
    "display.title(title, y=1.2)\n",
    "\n",
    "n_detections = (get_data(signed_neg_log_pvals_unmasked) > threshold).sum()\n",
    "print('\\n%d detections' % n_detections)\n",
    "\n",
    "show()"
   ]
  }
 ],
 "metadata": {
  "colab": {
   "collapsed_sections": [
    "rlrkW8aJBshr",
    "81TfbBQvxgR_",
    "z8Lv-KXDxgSB"
   ],
   "name": "MRI_ILC.ipynb",
   "provenance": []
  },
  "kernelspec": {
   "display_name": "Python 3",
   "language": "python",
   "name": "python3"
  },
  "language_info": {
   "codemirror_mode": {
    "name": "ipython",
    "version": 3
   },
   "file_extension": ".py",
   "mimetype": "text/x-python",
   "name": "python",
   "nbconvert_exporter": "python",
   "pygments_lexer": "ipython3",
   "version": "3.8.5"
  }
 },
 "nbformat": 4,
 "nbformat_minor": 0
}
